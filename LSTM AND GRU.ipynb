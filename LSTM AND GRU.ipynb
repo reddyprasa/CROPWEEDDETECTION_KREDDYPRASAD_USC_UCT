{
  "nbformat": 4,
  "nbformat_minor": 0,
  "metadata": {
    "colab": {
      "provenance": [],
      "authorship_tag": "ABX9TyPvzNn4QOUKYlynV34mnhSE",
      "include_colab_link": true
    },
    "kernelspec": {
      "name": "python3",
      "display_name": "Python 3"
    },
    "language_info": {
      "name": "python"
    }
  },
  "cells": [
    {
      "cell_type": "markdown",
      "metadata": {
        "id": "view-in-github",
        "colab_type": "text"
      },
      "source": [
        "<a href=\"https://colab.research.google.com/github/reddyprasa/CROPWEEDDETECTION_KREDDYPRASAD_USC_UCT/blob/main/LSTM%20AND%20GRU.ipynb\" target=\"_parent\"><img src=\"https://colab.research.google.com/assets/colab-badge.svg\" alt=\"Open In Colab\"/></a>"
      ]
    },
    {
      "cell_type": "code",
      "execution_count": 7,
      "metadata": {
        "id": "K34-dV_K5YDl"
      },
      "outputs": [],
      "source": [
        "import numpy as np\n",
        "from tensorflow.keras.datasets import imdb\n",
        "from tensorflow.keras.models import Sequential\n",
        "from tensorflow.keras.layers import Embedding,GRU ,LSTM,Dense\n",
        "from tensorflow.keras.preprocessing.sequence import pad_sequences\n",
        "from tensorflow.keras.utils import to_categorical\n",
        "from sklearn.model_selection import train_test_split\n"
      ]
    },
    {
      "cell_type": "code",
      "source": [
        "vocab_size=1000\n",
        "max_len=200\n",
        "(X_train,y_train),(X_test,y_test)=imdb.load_data(num_words=vocab_size)\n",
        "X_train=pad_sequences(X_train,maxlen=max_len)\n",
        "X_test=pad_sequences(X_test,maxlen=max_len)"
      ],
      "metadata": {
        "colab": {
          "base_uri": "https://localhost:8080/"
        },
        "id": "usxpRIve82FG",
        "outputId": "fc2296c4-23ed-4cd5-f818-d5a314cb3d1c"
      },
      "execution_count": 9,
      "outputs": [
        {
          "output_type": "stream",
          "name": "stdout",
          "text": [
            "Downloading data from https://storage.googleapis.com/tensorflow/tf-keras-datasets/imdb.npz\n",
            "17464789/17464789 [==============================] - 0s 0us/step\n"
          ]
        }
      ]
    },
    {
      "cell_type": "code",
      "source": [
        "y_train=to_categorical(y_train,num_classes=2)\n",
        "y_test=to_categorical(y_test,num_classes=2)\n"
      ],
      "metadata": {
        "id": "xDJMCdlK86dw"
      },
      "execution_count": 10,
      "outputs": []
    },
    {
      "cell_type": "code",
      "source": [
        "X_train,X_val,y_train,y_val=train_test_split(X_train,y_train,test_size=0.2,random_state=42)\n",
        "model_gru=Sequential()\n",
        "model_gru.add(Embedding(vocab_size,128,input_length=max_len))\n",
        "model_gru.add(GRU(64))\n",
        "model_gru.add(Dense(2,activation='softmax'))\n",
        "model_gru.compile(optimizer='adam',loss='categorical_crossentropy',metrics=['accuracy'])"
      ],
      "metadata": {
        "id": "Vdjuc2ah-Ntg"
      },
      "execution_count": 12,
      "outputs": []
    },
    {
      "cell_type": "code",
      "source": [
        "model_gru.fit(X_train,y_train,validation_data =(X_val,y_val),epochs=3,batch_size=64)\n",
        "gru_loss,gru_accuracy=model_gru.evaluate(X_test,y_test)\n",
        "print(f\"GRU Model-Test Loss:{gru_loss:4f},Test Accuracy:{gru_accuracy:.4f}\")\n",
        "model_lstm = Sequential()\n",
        "model_lstm.add(Embedding(vocab_size, 128, input_length=max_len))\n",
        "model_lstm.add(LSTM(64))\n",
        "model_lstm.add(Dense(2, activation='softmax'))\n",
        "model_lstm.compile(optimizer='adam', loss='categorical_crossentropy', metrics=['accuracy'])\n",
        "model_lstm.fit(X_train, y_train, validation_data=(X_val, y_val), epochs=3, batch_size=64)\n",
        "lstm_loss, lstm_accuracy = model_lstm.evaluate(X_test, y_test)\n",
        "print(f\"LSTM Model - Test Loss: {lstm_loss:.4f}, Test Accuracy: {lstm_accuracy:.4f}\")\n"
      ],
      "metadata": {
        "colab": {
          "base_uri": "https://localhost:8080/"
        },
        "id": "17EXHD7n_q6-",
        "outputId": "9c8be2a0-75f8-4fc4-a176-e6d0b0b9eabf"
      },
      "execution_count": 17,
      "outputs": [
        {
          "output_type": "stream",
          "name": "stdout",
          "text": [
            "Epoch 1/3\n",
            "250/250 [==============================] - 52s 206ms/step - loss: 0.2960 - accuracy: 0.8739 - val_loss: 0.3654 - val_accuracy: 0.8360\n",
            "Epoch 2/3\n",
            "250/250 [==============================] - 49s 197ms/step - loss: 0.2781 - accuracy: 0.8858 - val_loss: 0.3303 - val_accuracy: 0.8580\n",
            "Epoch 3/3\n",
            "250/250 [==============================] - 51s 205ms/step - loss: 0.2534 - accuracy: 0.8964 - val_loss: 0.3339 - val_accuracy: 0.8550\n",
            "782/782 [==============================] - 22s 28ms/step - loss: 0.3400 - accuracy: 0.8596\n",
            "GRU Model-Test Loss:0.340001,Test Accuracy:0.8596\n",
            "Epoch 1/3\n",
            "250/250 [==============================] - 60s 232ms/step - loss: 0.4798 - accuracy: 0.7619 - val_loss: 0.3594 - val_accuracy: 0.8493\n",
            "Epoch 2/3\n",
            "250/250 [==============================] - 57s 227ms/step - loss: 0.3530 - accuracy: 0.8496 - val_loss: 0.4002 - val_accuracy: 0.8230\n",
            "Epoch 3/3\n",
            "250/250 [==============================] - 55s 222ms/step - loss: 0.3277 - accuracy: 0.8595 - val_loss: 0.3457 - val_accuracy: 0.8503\n",
            "782/782 [==============================] - 26s 34ms/step - loss: 0.3432 - accuracy: 0.8523\n",
            "LSTM Model - Test Loss: 0.3432, Test Accuracy: 0.8523\n"
          ]
        }
      ]
    },
    {
      "cell_type": "code",
      "source": [],
      "metadata": {
        "id": "5jakR_7rAny4"
      },
      "execution_count": null,
      "outputs": []
    },
    {
      "cell_type": "code",
      "source": [],
      "metadata": {
        "id": "YiGVib8UAdk4"
      },
      "execution_count": null,
      "outputs": []
    }
  ]
}